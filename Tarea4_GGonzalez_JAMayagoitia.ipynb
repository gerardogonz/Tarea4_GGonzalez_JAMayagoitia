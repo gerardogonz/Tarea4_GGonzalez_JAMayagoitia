{
 "cells": [
  {
   "cell_type": "markdown",
   "metadata": {},
   "source": [
    "<img style=\"float: left; margin: 30px 15px 15px 15px;\" src=\"https://pngimage.net/wp-content/uploads/2018/06/logo-iteso-png-5.png\" width=\"300\" height=\"500\" /> \n",
    "    \n",
    "    \n",
    "### <font color='navy'> Simulación de procesos financieros. \n",
    "\n",
    "**Nombres: Gerardo González Flores y José Alberto Mayagoitia Guitierrez** \n",
    "\n",
    "**Fecha:** 21 de septiembre del 2021.\n",
    "\n",
    "**Expediente** : 721430 y 720266.\n",
    "**Profesor:** Oscar David Jaramillo Zuluaga.\n",
    "    \n",
    "**Link Github**: https://github.com/gerardogonz/Tarea4_GGonzalez_JAMayagoitia\n",
    "\n",
    "# Tarea 4: Clase 7"
   ]
  },
  {
   "cell_type": "code",
   "execution_count": 1,
   "metadata": {},
   "outputs": [],
   "source": [
    "#  librerias a utilizar\n",
    "import numpy as np\n",
    "import matplotlib.pyplot as plt\n",
    "import scipy.stats as st"
   ]
  },
  {
   "cell_type": "markdown",
   "metadata": {},
   "source": [
    "### Ejercicio 1: \n",
    "Como ejemplo simple de una simulación de Monte Carlo, considere calcular la probabilidad de una suma particular del lanzamiento de tres dados (cada dado tiene valores del uno al seis). Además cada dado tiene las siguientes carácterísticas: el primer dado no está cargado (distribución uniforme todos son equiprobables); el segundo y tercer dado están cargados basados en una distribución binomial con parámetros (`n=5, p=0.5` y `n=5, p=0.2`). Calcule la probabilidad de que la suma resultante sea 7, 14 o 18. "
   ]
  },
  {
   "cell_type": "markdown",
   "metadata": {},
   "source": [
    "Código de solución estudiante 1"
   ]
  },
  {
   "cell_type": "code",
   "execution_count": 2,
   "metadata": {},
   "outputs": [
    {
     "name": "stdout",
     "output_type": "stream",
     "text": [
      "0.18236399999999986\n",
      "0.0164\n",
      "0.0001\n"
     ]
    }
   ],
   "source": [
    "# Código de solución estudiante 1\n",
    "def probdados3(resultado):\n",
    "    d1 = np.random.randint(1,7,100000)\n",
    "    d2 = st.binom(n=5, p=0.5).rvs(size=100000)\n",
    "    d3 = st.binom(n=5, p=0.2).rvs(size=100000)\n",
    "    r = d1+d2+d3\n",
    "    y, x = np.histogram(r, bins=18, density=True)\n",
    "    return y[resultado-1]\n",
    "print(probdados3(7))\n",
    "print(round(probdados3(14),4))\n",
    "print(round(probdados3(18),4))"
   ]
  },
  {
   "cell_type": "markdown",
   "metadata": {},
   "source": [
    "Código de solución estudiante 2"
   ]
  },
  {
   "cell_type": "code",
   "execution_count": 33,
   "metadata": {},
   "outputs": [
    {
     "name": "stdout",
     "output_type": "stream",
     "text": [
      "Las probabilidades de la suma del dado en 7, 14 y 18 respectivamente son (0.1252, 0.0135, 0.0)\n"
     ]
    }
   ],
   "source": [
    "# Código de solución estudiante 2\n",
    "import numpy as np\n",
    "import matplotlib.pyplot as plt\n",
    "import scipy.stats as st\n",
    "\n",
    "n = 10000\n",
    "dado_1 = np.random.randint(1, 7, n)\n",
    "dado_2 = st.binom(n=5, p=0.5, loc=1).rvs(n)\n",
    "dado_12 = st.binom(n=5 ,p=0.2, loc=1).rvs(n)\n",
    "sumadedados = dado_1 + dado_2 + dado_12\n",
    "\n",
    "def final(x):\n",
    "    p=len(sumadedados[sumadedados==x])/len(sumadedados)\n",
    "    return p\n",
    "\n",
    "result= final(7) , final(14) , final(18)\n",
    "\n",
    "\n",
    "print('Las probabilidades de la suma del dado en 7, 14 y 18 respectivamente son',result)"
   ]
  },
  {
   "cell_type": "markdown",
   "metadata": {},
   "source": [
    "### 2 Ejercicio de aplicación- Cafetería Central\n",
    "\n",
    "Premisas para la simulación:\n",
    "- Negocio de alimentos que vende bebidas y alimentos.\n",
    "- Negocio dentro del ITESO.\n",
    "- Negocio en cafetería central.\n",
    "- Tipo de clientes (hombres y mujeres).\n",
    "- Rentabilidad del 60%.\n",
    "\n",
    "## Objetivo\n",
    "Realizar una simulación estimado el tiempo medio que se tardaran los clientes en ser atendidos entre el horario de 6:30 a 1 pm. Además saber el consumo. \n",
    "**Analizar supuestos y limitantes**"
   ]
  },
  {
   "cell_type": "markdown",
   "metadata": {},
   "source": [
    "## Supuestos en simulación\n",
    "Clasificación de clientes: \n",
    "- Mujer  = 1 $\\longrightarrow$ aleatorio < 0.5\n",
    "- Hombre = 0 $\\longrightarrow$ aleatorio $\\geq$ 0.5.\n",
    "\n",
    "Condiciones iniciales:\n",
    "- Todas las distrubuciones de probabilidad se supondrán uniformes.\n",
    "- Tiempo de simulación: 6:30 am - 1:30pm $\\longrightarrow$ T = 7 horas = 25200 seg.\n",
    "- Tiempo de llegada hasta ser atendido: Min=5seg, Max=30seg.\n",
    "- Tiempo que tardan los clientes en ser atendidos:\n",
    "    - Mujer: Min = 1 min= 60seg, Max = 5 min = 300 seg\n",
    "    - Hombre: Min = 40 seg, Max = 2 min= 120 seg\n",
    "- Consumo según el tipo de cliente:\n",
    "    - Mujer: Min = 30 pesos, Max = 100 pesos\n",
    "    - Hombre: Min = 20 pesos, Max = 80 pesos\n",
    "\n",
    "Responder las siguientes preguntas basados en los datos del problema:\n",
    "1. ¿Cuáles fueron los gastos de los hombres y las mujeres en 5 días de trabajo?.\n",
    "2. ¿Cuál fue el consumo promedio de los hombres y mujeres?\n",
    "3. ¿Cuál fue el número de personas atendidas por día?\n",
    "4. ¿Cuál fue el tiempo de atención promedio?\n",
    "5. ¿Cuánto fue la ganancia promedio de la cafetería en 5 días de trabajo y su respectiva rentabilidad?"
   ]
  },
  {
   "cell_type": "code",
   "execution_count": 14,
   "metadata": {},
   "outputs": [
    {
     "data": {
      "text/plain": [
       "(23385.0, 62963.0, 82, 160, 26.0)"
      ]
     },
     "execution_count": 14,
     "metadata": {},
     "output_type": "execute_result"
    }
   ],
   "source": [
    "## Sol estudiante 1. 2-1\n",
    "\n",
    "d = 5\n",
    "T =25200\n",
    "T_at_min = 5; T_at_max = 30\n",
    "T_mujer_min =60; T_mujer_max = 300\n",
    "T_hombre_min = 40; T_hombre_max = 120\n",
    "C_mujer_min = 30; C_mujer_max = 100\n",
    "C_hombre_min = 20; C_hombre_max = 80\n",
    "\n",
    "#  otras variables a utilizar\n",
    "escenarios = 1\n",
    "t_atencion = np.random.randint(T_at_min, T_at_max + 1, escenarios)\n",
    "atencion_mujeres = np.random.randint(T_mujer_min, T_mujer_max + 1, escenarios)\n",
    "atencion_hombres = np.random.randint(T_hombre_min, T_hombre_max + 1, escenarios)\n",
    "\n",
    "\n",
    "# Comenzamos a iterar tanto sobre los 5 dias (d) como el tiempo que queremos por dia (T)\n",
    "# Variables iniciales\n",
    "dia = 0\n",
    "gasto_total_mujeres = 0\n",
    "gasto_total_hombres = 0\n",
    "\n",
    "# Empezamos a iterar sobre los dias\n",
    "while dia <= d:\n",
    "    \n",
    "    # Variables auxiliares que nos ayudaran a definir valores parciales por cada dia\n",
    "    tiempo = 0\n",
    "    gasto_parcial_mujeres = 0\n",
    "    gasto_parcial_hombres = 0\n",
    "    cantidad_mujeres = 0\n",
    "    cantidad_hombres = 0\n",
    "    atencion = 0\n",
    "    \n",
    "    # Segundo ciclo, iteracion por tiempo\n",
    "    while tiempo <= T:\n",
    "        if np.random.randint(0,2) == 0:\n",
    "            gasto_parcial_mujeres += np.mean(np.random.randint(C_mujer_min, C_mujer_max))\n",
    "            cantidad_mujeres += 1\n",
    "            tiempo += np.mean(t_atencion) + np.mean(atencion_mujeres)\n",
    "            atencion += np.mean(t_atencion)\n",
    "            \n",
    "        elif np.random.randint(0,2) == 1:\n",
    "            gasto_parcial_hombres += np.mean(np.random.randint(C_hombre_min, C_hombre_max))\n",
    "            cantidad_hombres += 1\n",
    "            tiempo += np.mean(t_atencion) + np.mean(atencion_hombres)\n",
    "            atencion += np.mean(t_atencion)\n",
    "            \n",
    "    # Almacenamos los gastos totales compuestos de los parciales correspondientes a cada dia\n",
    "    gasto_total_mujeres += gasto_parcial_mujeres\n",
    "    gasto_total_hombres += gasto_parcial_hombres\n",
    "    dia += 1\n",
    "\n",
    "# Variables que nos interesaran para dar respuesta a las preguntas\n",
    "gasto_total_hombres, gasto_total_mujeres, cantidad_hombres, cantidad_mujeres, atencion / (cantidad_hombres+cantidad_mujeres)"
   ]
  },
  {
   "cell_type": "code",
   "execution_count": 19,
   "metadata": {},
   "outputs": [
    {
     "name": "stdout",
     "output_type": "stream",
     "text": [
      "El gasto en 5 días en hombres es igual a $23385\n",
      "El gasto en 5 días en mujeres es igual a $62963\n"
     ]
    }
   ],
   "source": [
    "## Pregunta 1  ¿Cuáles fueron los gastos de los hombres y las mujeres en 5 días de trabajo?\n",
    "print(f'El gasto en 5 días en hombres es igual a ${int(gasto_total_hombres )}')\n",
    "print(f'El gasto en 5 días en mujeres es igual a ${int(gasto_total_mujeres )}')"
   ]
  },
  {
   "cell_type": "code",
   "execution_count": 20,
   "metadata": {},
   "outputs": [
    {
     "name": "stdout",
     "output_type": "stream",
     "text": [
      "El gasto promedio de los hombres fue de $49.63414634146341\n",
      "El gasto promedio de las mujeres fue de $61.6375\n"
     ]
    }
   ],
   "source": [
    "# Pregunta 2 ¿Cuál fue el consumo promedio de los hombres y mujeres?\n",
    "\n",
    "print(f'El gasto promedio de los hombres fue de ${gasto_parcial_hombres/cantidad_hombres}')\n",
    "print(f'El gasto promedio de las mujeres fue de ${gasto_parcial_mujeres/cantidad_mujeres}')"
   ]
  },
  {
   "cell_type": "code",
   "execution_count": 26,
   "metadata": {},
   "outputs": [
    {
     "name": "stdout",
     "output_type": "stream",
     "text": [
      " Cantidad de personas atendidas por día fue de: 242\n"
     ]
    }
   ],
   "source": [
    "## Pregunta 3 ¿Cuál fue el número de personas atendidas por día?\n",
    "print(f' Cantidad de personas atendidas por día fue de: {cantidad_hombres+cantidad_mujeres}')"
   ]
  },
  {
   "cell_type": "code",
   "execution_count": 29,
   "metadata": {},
   "outputs": [
    {
     "name": "stdout",
     "output_type": "stream",
     "text": [
      "El tiempo de atención promedio fue de 26.0 segundos\n"
     ]
    }
   ],
   "source": [
    "## Pregunta 4 ¿Cuál fue el tiempo de atención promedio?\n",
    "Cant_total= cantidad_hombres+cantidad_mujeres\n",
    "print(f'El tiempo de atención promedio fue de {atencion/(Cant_total)} segundos')"
   ]
  },
  {
   "cell_type": "code",
   "execution_count": 30,
   "metadata": {},
   "outputs": [
    {
     "name": "stdout",
     "output_type": "stream",
     "text": [
      "Los ingresos  en 5 días de la cafeteria fue de $86348\n",
      "La rentabilidad fue de $51808.799999999996\n"
     ]
    }
   ],
   "source": [
    "## Pregunta 5 ¿Cuánto fue la ganancia promedio de la cafetería en 5 días de trabajo y su respectiva rentabilidad?\n",
    "gastos_totales= gasto_total_hombres + gasto_total_mujeres\n",
    "print(f'Los ingresos  en 5 días de la cafeteria fue de ${int(gastos_totales)}')\n",
    "print(f'La rentabilidad fue de ${int(gastos_totales)*0.6}')"
   ]
  },
  {
   "cell_type": "code",
   "execution_count": 47,
   "metadata": {},
   "outputs": [
    {
     "data": {
      "text/plain": [
       "(10977.0, 30384.0, 44, 75, 10.0)"
      ]
     },
     "execution_count": 47,
     "metadata": {},
     "output_type": "execute_result"
    }
   ],
   "source": [
    "## Sol estudiante 2\n",
    "# Datos del problema\n",
    "d = 5\n",
    "T =25200\n",
    "T_at_min = 5; T_at_max = 30\n",
    "T_mujer_min =60; T_mujer_max = 300\n",
    "T_hombre_min = 40; T_hombre_max = 120\n",
    "C_mujer_min = 30; C_mujer_max = 100\n",
    "C_hombre_min = 20; C_hombre_max = 80\n",
    "\n",
    "escenarios = 1\n",
    "t_atencion = np.random.randint(T_at_min, T_at_max + 1, escenarios)\n",
    "atencion_mujeres = np.random.randint(T_mujer_min, T_mujer_max + 1, escenarios)\n",
    "atencion_hombres = np.random.randint(T_hombre_min, T_hombre_max + 1, escenarios)\n",
    "dia = 0\n",
    "gastototal_mujeres = 0\n",
    "gastototal_hombres = 0\n",
    "\n",
    "while dia <= d:\n",
    "    #Valores Parciales\n",
    "    tiempo = 0\n",
    "    gastomujeres = 0\n",
    "    gastohombres = 0\n",
    "    cantmujeres = 0\n",
    "    canthombres = 0\n",
    "    atencion = 0\n",
    "    \n",
    "   #Repeticion por tiempo\n",
    "    while tiempo <= T:\n",
    "        if np.random.randint(0,2) == 0:\n",
    "            gastomujeres += np.mean(np.random.randint(C_mujer_min, C_mujer_max))\n",
    "            cantmujeres += 1\n",
    "            tiempo += np.mean(t_atencion) + np.mean(atencion_mujeres)\n",
    "            atencion += np.mean(t_atencion)\n",
    "            \n",
    "        elif np.random.randint(0,2) == 1:\n",
    "            gastohombres += np.mean(np.random.randint(C_hombre_min, C_hombre_max))\n",
    "            canthombres += 1\n",
    "            tiempo += np.mean(t_atencion) + np.mean(atencion_hombres)\n",
    "            atencion += np.mean(t_atencion)\n",
    "            \n",
    "   \n",
    "    gastototal_mujeres += gastomujeres\n",
    "    gastototal_hombres += gastohombres\n",
    "    dia += 1\n",
    "\n",
    "(gastototal_hombres, gastototal_mujeres, canthombres, cantmujeres, atencion / (canthombres+cantmujeres))"
   ]
  },
  {
   "cell_type": "markdown",
   "metadata": {},
   "source": [
    "### Respuestas a las preguntas"
   ]
  },
  {
   "cell_type": "code",
   "execution_count": 36,
   "metadata": {},
   "outputs": [
    {
     "name": "stdout",
     "output_type": "stream",
     "text": [
      "El gasto en 5 días en hombres es igual a $22023\n",
      "El gasto en 5 días en mujeres es igual a $60205\n"
     ]
    }
   ],
   "source": [
    "# 1- ¿Cuáles fueron los gastos de los hombres y las mujeres en 5 días de trabajo?\n",
    "print(f'El gasto en 5 días en hombres es igual a ${int(gasto_total_hombres )}')\n",
    "print(f'El gasto en 5 días en mujeres es igual a ${int(gasto_total_mujeres )}')"
   ]
  },
  {
   "cell_type": "code",
   "execution_count": 37,
   "metadata": {},
   "outputs": [
    {
     "name": "stdout",
     "output_type": "stream",
     "text": [
      "El gasto promedio de los hombres fue de $50.63291139240506\n",
      "El gasto promedio de las mujeres fue de $63.9671052631579\n"
     ]
    }
   ],
   "source": [
    "# 2- ¿Cuál fue el consumo promedio de los hombres y mujeres?\n",
    "print(f'El gasto promedio de los hombres fue de ${gasto_parcial_hombres/cantidad_hombres}')\n",
    "print(f'El gasto promedio de las mujeres fue de ${gasto_parcial_mujeres/cantidad_mujeres}')"
   ]
  },
  {
   "cell_type": "code",
   "execution_count": 38,
   "metadata": {},
   "outputs": [
    {
     "name": "stdout",
     "output_type": "stream",
     "text": [
      " Cantidad de personas atendidas por día fue de: 231\n"
     ]
    }
   ],
   "source": [
    "#3- ¿Cuál fue el número de personas atendidas por día?\n",
    "print(f' Cantidad de personas atendidas por día fue de: {cantidad_hombres+cantidad_mujeres}')"
   ]
  },
  {
   "cell_type": "code",
   "execution_count": 39,
   "metadata": {},
   "outputs": [
    {
     "name": "stdout",
     "output_type": "stream",
     "text": [
      "El tiempo de atención promedio fue de 30.0 segundos\n"
     ]
    }
   ],
   "source": [
    "#4- ¿Cuál fue el tiempo de atención promedio?\n",
    "Cantidad_total= cantidad_hombres+cantidad_mujeres\n",
    "print(f'El tiempo de atención promedio fue de {atencion/(Cantidad_total)} segundos')"
   ]
  },
  {
   "cell_type": "code",
   "execution_count": 40,
   "metadata": {},
   "outputs": [
    {
     "name": "stdout",
     "output_type": "stream",
     "text": [
      "Los ingresos  en 5 días de la cafeteria fue de $82228\n",
      "La rentabilidad fue de $49336.799999999996\n"
     ]
    }
   ],
   "source": [
    "#5- ¿Cuánto fue la ganancia promedio de la cafetería en 5 días de trabajo y su respectiva rentabilidad?\n",
    "gastos_totales= gasto_total_hombres + gasto_total_mujeres\n",
    "print(f'Los ingresos  en 5 días de la cafeteria fue de ${int(gastos_totales)}')\n",
    "print(f'La rentabilidad fue de ${int(gastos_totales)*0.6}')"
   ]
  }
 ],
 "metadata": {
  "kernelspec": {
   "display_name": "Python 3",
   "language": "python",
   "name": "python3"
  },
  "language_info": {
   "codemirror_mode": {
    "name": "ipython",
    "version": 3
   },
   "file_extension": ".py",
   "mimetype": "text/x-python",
   "name": "python",
   "nbconvert_exporter": "python",
   "pygments_lexer": "ipython3",
   "version": "3.7.3"
  }
 },
 "nbformat": 4,
 "nbformat_minor": 2
}
